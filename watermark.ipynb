{
 "cells": [
  {
   "cell_type": "markdown",
   "metadata": {},
   "source": [
    "### 1. All images must be JPG file\n",
    "### 2. Input image folder must not contain any sub folders\n",
    "### 3. Output images will be saved to a folder name after current date\n",
    "\n"
   ]
  },
  {
   "cell_type": "code",
   "execution_count": 1,
   "metadata": {},
   "outputs": [],
   "source": [
    "import os\n",
    "from PIL import Image\n",
    "import time\n",
    "from datetime import date\n",
    "import re\n",
    "\n",
    "def watermark_img(orgnl_file, watermark, pos, output):\n",
    "    global pic_count\n",
    "    pic_count = 0\n",
    "    for folder , sub_folders , files in os.walk(orgnl_file):\n",
    "        for file in files:\n",
    "\n",
    "            #this will ignore every other file that's not jpg\n",
    "            if file.endswith(\".jpg\") or file.endswith(\".JPG\"):\n",
    "\n",
    "                pic = Image.open(f\"{folder}/{file}\")\n",
    "\n",
    "                pic_x, pic_y = pic.size\n",
    "\n",
    "                logo = Image.open(watermark)\n",
    "\n",
    "                if pic_x > pic_y:     \n",
    "                    logo.thumbnail((pic_x//10,pic_y//10)) #resize according to width\n",
    "                else:\n",
    "                    logo.thumbnail((pic_y//10,pic_x//10)) #resize according to highth\n",
    "                    \n",
    "                if pos == 1:\n",
    "                    position = (0,0) #upper left\n",
    "                elif pos == 2:\n",
    "                    position = (pic_x-logo.size[0],0) #upper right\n",
    "                elif pos == 3:              \n",
    "                    position = (pic_x-logo.size[0], pic_y-logo.size[1]) #bottom right\n",
    "                elif pos == 4:\n",
    "                    position = (0,pic_y-logo.size[1]) #bottom left\n",
    "                else:\n",
    "                    positin = (pic_x//2, pic_y//2) #center\n",
    "                    \n",
    "                pic.paste(logo, position, mask=logo)\n",
    "#                 pic.show()\n",
    "                \n",
    "                pic.save(output+ re.findall(r'/.*' ,pic.filename)[0])\n",
    "                pic_count+=1\n",
    "    \n",
    "\n",
    "def get_position():\n",
    "    decision = int(input('Choose a location, upper left (1), upper right(2), bottom right(3), bottom left(4) or center(5): ')) \n",
    "    return decision\n",
    "\n",
    "def get_output_file_name():\n",
    "    today = date.today()\n",
    "    path = today.strftime(\"%y%m%d\")\n",
    "    if not os.path.exists(path):\n",
    "                os.makedirs(path)\n",
    "    return path #'210110'\n",
    "\n",
    "def main():\n",
    "    \n",
    "    tic = time.perf_counter()\n",
    "    print('##########All image files must be JPG file##########')\n",
    "    original_file = input('Enter image folder name: ')\n",
    "    watermark = input('Enter the watermark file name (must be a png file): ') + '.png'\n",
    "    position = get_position()\n",
    "    output_file = get_output_file_name()\n",
    "    \n",
    "    watermark_img(original_file, watermark, position, output_file)\n",
    "    \n",
    "    toc = time.perf_counter()\n",
    "    print(f'\\nTotal: {pic_count}\\nFinished in {round(toc-tic)} seconds')\n",
    "    print('Image(s) successfully watermarked and saved to folder named ',get_output_file_name())"
   ]
  },
  {
   "cell_type": "code",
   "execution_count": 2,
   "metadata": {},
   "outputs": [
    {
     "output_type": "stream",
     "name": "stdout",
     "text": [
      "##########All image files must be JPG file##########\n",
      "\n",
      "Total: 0\n",
      "Finished in 19 seconds\n"
     ]
    },
    {
     "output_type": "error",
     "ename": "NameError",
     "evalue": "name 'output' is not defined",
     "traceback": [
      "\u001b[0;31m---------------------------------------------------------------------------\u001b[0m",
      "\u001b[0;31mNameError\u001b[0m                                 Traceback (most recent call last)",
      "\u001b[0;32m<ipython-input-2-263240bbee7e>\u001b[0m in \u001b[0;36m<module>\u001b[0;34m\u001b[0m\n\u001b[0;32m----> 1\u001b[0;31m \u001b[0mmain\u001b[0m\u001b[0;34m(\u001b[0m\u001b[0;34m)\u001b[0m\u001b[0;34m\u001b[0m\u001b[0;34m\u001b[0m\u001b[0m\n\u001b[0m",
      "\u001b[0;32m<ipython-input-1-55d5c7226443>\u001b[0m in \u001b[0;36mmain\u001b[0;34m()\u001b[0m\n\u001b[1;32m     67\u001b[0m     \u001b[0mtoc\u001b[0m \u001b[0;34m=\u001b[0m \u001b[0mtime\u001b[0m\u001b[0;34m.\u001b[0m\u001b[0mperf_counter\u001b[0m\u001b[0;34m(\u001b[0m\u001b[0;34m)\u001b[0m\u001b[0;34m\u001b[0m\u001b[0;34m\u001b[0m\u001b[0m\n\u001b[1;32m     68\u001b[0m     \u001b[0mprint\u001b[0m\u001b[0;34m(\u001b[0m\u001b[0;34mf'\\nTotal: {pic_count}\\nFinished in {round(toc-tic)} seconds'\u001b[0m\u001b[0;34m)\u001b[0m\u001b[0;34m\u001b[0m\u001b[0;34m\u001b[0m\u001b[0m\n\u001b[0;32m---> 69\u001b[0;31m     \u001b[0mprint\u001b[0m\u001b[0;34m(\u001b[0m\u001b[0;34m'Image(s) successfully watermarked and saved to folder named '\u001b[0m\u001b[0;34m,\u001b[0m\u001b[0moutput\u001b[0m\u001b[0;34m(\u001b[0m\u001b[0;34m)\u001b[0m\u001b[0;34m)\u001b[0m\u001b[0;34m\u001b[0m\u001b[0;34m\u001b[0m\u001b[0m\n\u001b[0m",
      "\u001b[0;31mNameError\u001b[0m: name 'output' is not defined"
     ]
    }
   ],
   "source": [
    "main()"
   ]
  },
  {
   "cell_type": "code",
   "execution_count": null,
   "metadata": {},
   "outputs": [],
   "source": []
  }
 ],
 "metadata": {
  "kernelspec": {
   "name": "python383jvsc74a57bd0dca0ade3e726a953b501b15e8e990130d2b7799f14cfd9f4271676035ebe5511",
   "display_name": "Python 3.8.3 64-bit ('base': conda)"
  },
  "language_info": {
   "codemirror_mode": {
    "name": "ipython",
    "version": 3
   },
   "file_extension": ".py",
   "mimetype": "text/x-python",
   "name": "python",
   "nbconvert_exporter": "python",
   "pygments_lexer": "ipython3",
   "version": "3.8.3-final"
  }
 },
 "nbformat": 4,
 "nbformat_minor": 4
}