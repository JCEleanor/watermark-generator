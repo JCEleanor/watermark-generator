{
 "cells": [
  {
   "cell_type": "markdown",
   "metadata": {},
   "source": [
    "### 1. All images must be JPG file\n",
    "### 2. Input image folder must not contain any sub folders\n",
    "### 3. Output images will be saved to a folder name after current date\n",
    "\n"
   ]
  },
  {
   "cell_type": "code",
   "execution_count": 30,
   "metadata": {},
   "outputs": [],
   "source": [
    "import os\n",
    "from PIL import Image\n",
    "import time\n",
    "from datetime import date\n",
    "import re\n",
    "\n",
    "def watermark_img(orgnl_file, watermark, pos, output):\n",
    "    global pic_count\n",
    "    pic_count = 0\n",
    "    for folder , sub_folders , files in os.walk(orgnl_file):\n",
    "        for file in files:\n",
    "\n",
    "            #this will ignore every other file that's not jpg\n",
    "            if file.endswith(\".jpg\") or file.endswith(\".JPG\"):\n",
    "\n",
    "                pic = Image.open(f\"{folder}/{file}\")\n",
    "\n",
    "                pic_x, pic_y = pic.size\n",
    "\n",
    "                logo = Image.open(watermark)\n",
    "\n",
    "                if pic_x > pic_y:     \n",
    "                    logo.thumbnail((pic_x//10,pic_y//10)) #resize according to width\n",
    "                else:\n",
    "                    logo.thumbnail((pic_y//10,pic_x//10)) #resize according to highth\n",
    "                    \n",
    "                if pos == 1:\n",
    "                    position = (0,0) #upper left\n",
    "                elif pos == 2:\n",
    "                    position = (pic_x-logo.size[0],0) #upper right\n",
    "                elif pos == 3:              \n",
    "                    position = (pic_x-logo.size[0], pic_y-logo.size[1]) #bottom right\n",
    "                elif pos == 4:\n",
    "                    position = (0,pic_y-logo.size[1]) #bottom left\n",
    "                else:\n",
    "                    positin = (pic_x//2, pix_y//2) #center\n",
    "                    \n",
    "                pic.paste(logo, position, mask=logo)\n",
    "#                 pic.show()\n",
    "                \n",
    "                pic.save(output+ re.findall(r'/.*' ,pic.filename)[0])\n",
    "                pic_count+=1\n",
    "    \n",
    "\n",
    "def get_position():\n",
    "    decision = int(input('Choose a location, upper left (1), upper right(2), bottom right(3), bottom left(4) or center(5): ')) \n",
    "    return decision\n",
    "\n",
    "def output():\n",
    "    today = date.today()\n",
    "    path = today.strftime(\"%y%m%d\")\n",
    "    if not os.path.exists(path):\n",
    "                os.makedirs(path)\n",
    "    return path #'210110'\n",
    "\n",
    "def main():\n",
    "    \n",
    "    tic = time.perf_counter()\n",
    "    print('##########All image files must be JPG file##########')\n",
    "    original_file = input('Enter image folder name: ')\n",
    "    watermark = input('Enter the watermark file name (must be a png file): ') + '.png'\n",
    "    position = get_position()\n",
    "    output_file = output()\n",
    "    \n",
    "    watermark_img(original_file, watermark, position, output_file)\n",
    "    \n",
    "    toc = time.perf_counter()\n",
    "    print(f'\\nTotal: {pic_count}\\nFinished in {round(toc-tic)} seconds')\n",
    "    print('Image(s) successfully watermarked and saved to folder named ',output())"
   ]
  },
  {
   "cell_type": "code",
   "execution_count": 29,
   "metadata": {},
   "outputs": [
    {
     "name": "stdout",
     "output_type": "stream",
     "text": [
      "##########All image files must be JPG file##########\n",
      "Enter image folder name: img\n",
      "Enter the watermark file name (must be a png file): JC_logo\n",
      "Choose a location, upper left (1), upper right(2), bottom right(3), bottom left(4) or center(5): 1\n",
      "\n",
      "Total: 12\n",
      "Finished in 13 seconds\n",
      "Image(s) successfully watermarked and saved to  210512 folder\n"
     ]
    }
   ],
   "source": [
    "main()"
   ]
  },
  {
   "cell_type": "code",
   "execution_count": null,
   "metadata": {},
   "outputs": [],
   "source": []
  }
 ],
 "metadata": {
  "kernelspec": {
   "display_name": "Python 3",
   "language": "python",
   "name": "python3"
  },
  "language_info": {
   "codemirror_mode": {
    "name": "ipython",
    "version": 3
   },
   "file_extension": ".py",
   "mimetype": "text/x-python",
   "name": "python",
   "nbconvert_exporter": "python",
   "pygments_lexer": "ipython3",
   "version": "3.8.3"
  }
 },
 "nbformat": 4,
 "nbformat_minor": 4
}
